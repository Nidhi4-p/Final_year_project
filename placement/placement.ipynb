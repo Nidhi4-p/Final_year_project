{
 "cells": [
  {
   "cell_type": "markdown",
   "metadata": {},
   "source": [
    "# PLACEMENT PREDICTION"
   ]
  },
  {
   "cell_type": "markdown",
   "metadata": {},
   "source": [
    "# Model"
   ]
  },
  {
   "cell_type": "code",
   "execution_count": 32,
   "metadata": {},
   "outputs": [
    {
     "name": "stdout",
     "output_type": "stream",
     "text": [
      "Test F1 Score     0.8000000000000002\n"
     ]
    }
   ],
   "source": [
    "#importing libraries \n",
    "import pandas as pd \n",
    "import numpy as np\n",
    "import matplotlib.pyplot as plt\n",
    "from sklearn import preprocessing\n",
    "from sklearn.neighbors import KNeighborsClassifier as KNN\n",
    "from sklearn.metrics import f1_score\n",
    "from sklearn.model_selection import train_test_split\n",
    "import warnings\n",
    "warnings.filterwarnings(\"ignore\")\n",
    "\n",
    "data = pd.read_csv('/home/user/Downloads/elective/project/placement/placed.csv', sep = ',', header = None, engine = 'python', encoding = 'latin-1')\n",
    "data=data.drop([0],axis=1)\n",
    "s=data\n",
    "x = s[[3]].values #returns a numpy array\n",
    "min_max_scaler = preprocessing.MinMaxScaler(feature_range=(0,100))\n",
    "x_scaled = min_max_scaler.fit_transform(x)\n",
    "df=pd.DataFrame(x_scaled)\n",
    "s[[3]]=df[[0]]\n",
    "s[[3]]=100-(s[[3]].round(2))\n",
    "s[[4]]=s[[4]]*10\n",
    "x = data.drop([5], axis=1)\n",
    "y = data[5]\n",
    "\n",
    "train_x,test_x,train_y,test_y = train_test_split(x,y, random_state = 25, stratify=y)\n",
    "clf = KNN(n_neighbors = 2)\n",
    "clf.fit(train_x, train_y)\n",
    "test_predict = clf.predict(test_x)\n",
    "k = f1_score(test_predict, test_y)\n",
    "print('Test F1 Score    ', k )\n"
   ]
  },
  {
   "cell_type": "markdown",
   "metadata": {},
   "source": [
    "# Elbow method"
   ]
  },
  {
   "cell_type": "code",
   "execution_count": 2,
   "metadata": {},
   "outputs": [
    {
     "data": {
      "text/plain": [
       "Text(0.5, 1.0, 'Elbow Curve for test')"
      ]
     },
     "execution_count": 2,
     "metadata": {},
     "output_type": "execute_result"
    },
    {
     "data": {
      "image/png": "[encoded data removed]",
      "text/plain": [
       "<Figure size 432x288 with 1 Axes>"
      ]
     },
     "metadata": {
      "needs_background": "light"
     },
     "output_type": "display_data"
    }
   ],
   "source": [
    "def Elbow(K):\n",
    "    test_error = []\n",
    "   \n",
    "    #training model for evey value of K\n",
    "    for i in K:\n",
    "        #Instance oh KNN\n",
    "        clf = KNN(n_neighbors = i)\n",
    "        clf.fit(train_x, train_y)\n",
    "        # Appending F1 scores to empty list claculated using the predictions\n",
    "        tmp = clf.predict(test_x)\n",
    "        tmp = f1_score(tmp,test_y)\n",
    "        error = 1-tmp\n",
    "        test_error.append(error)\n",
    "    \n",
    "    return test_error\n",
    "\n",
    "k = range(3, 16, 2)\n",
    "test = Elbow(k)\n",
    "\n",
    "plt.plot(k, test)\n",
    "plt.xlabel('K Neighbors')\n",
    "plt.ylabel('Test error')\n",
    "plt.title('Elbow Curve for test')\n"
   ]
  },
  {
   "cell_type": "code",
   "execution_count": 3,
   "metadata": {},
   "outputs": [
    {
     "name": "stdout",
     "output_type": "stream",
     "text": [
      "Test F1 Score     0.8333333333333333\n",
      "45    1\n",
      "32    1\n",
      "2     1\n",
      "4     1\n",
      "17    0\n",
      "44    1\n",
      "40    0\n",
      "28    1\n",
      "22    1\n",
      "33    0\n",
      "24    1\n",
      "51    0\n",
      "13    1\n",
      "50    1\n",
      "Name: 5, dtype: int64\n"
     ]
    }
   ],
   "source": [
    "clf = KNN(n_neighbors = 5)\n",
    "clf.fit(train_x, train_y)\n",
    "test_predict = clf.predict(test_x)\n",
    "k = f1_score(test_predict, test_y)\n",
    "print('Test F1 Score    ', k )\n",
    "print(test_y)\n"
   ]
  },
  {
   "cell_type": "markdown",
   "metadata": {},
   "source": [
    "# Testing model accuracy"
   ]
  },
  {
   "cell_type": "code",
   "execution_count": 4,
   "metadata": {},
   "outputs": [],
   "source": [
    "def testing_knn(n,clf):\n",
    "    p=pd.read_csv(n, sep = ',', header = None, engine = 'python', encoding = 'latin-1')\n",
    "    p=p.drop([0],axis=1)\n",
    "    l = p[[3]].values #returns a numpy array\n",
    "    min_max_scaler = preprocessing.MinMaxScaler(feature_range=(0,100))\n",
    "    x_scaled = min_max_scaler.fit_transform(l)\n",
    "    df=pd.DataFrame(x_scaled)\n",
    "    p[[3]]=df[[0]]\n",
    "    p[[3]]=100-(p[[3]].round(2))\n",
    "    p[[4]]=p[[4]]*10\n",
    "    t = p.drop([5], axis=1)\n",
    "    u = p[5]\n",
    "    clf.fit(train_x, train_y)\n",
    "    test_predict1 = clf.predict(t)\n",
    "    k = f1_score(test_predict1, u)\n",
    "    print('Test F1 Score    ', k )"
   ]
  },
  {
   "cell_type": "markdown",
   "metadata": {},
   "source": [
    "# Placement prediction of students in a dataset"
   ]
  },
  {
   "cell_type": "code",
   "execution_count": 49,
   "metadata": {},
   "outputs": [],
   "source": [
    "def knn_dataset_prediction(n,clf):\n",
    "    p=pd.read_csv(n, sep = ',', header = None, engine = 'python', encoding = 'latin-1')\n",
    "    p=p.drop([0],axis=1)\n",
    "    l = p[[3]].values #returns a numpy array\n",
    "    min_max_scaler = preprocessing.MinMaxScaler(feature_range=(0,100))\n",
    "    x_scaled = min_max_scaler.fit_transform(l)\n",
    "    df=pd.DataFrame(x_scaled)\n",
    "    p[[3]]=df[[0]]\n",
    "    p[[3]]=100-(p[[3]].round(2))\n",
    "    p[[4]]=p[[4]]*10\n",
    "    clf.fit(train_x, train_y)\n",
    "    test_predict1 = clf.predict(p)\n",
    "    p[\"placement\"]=test_predict1\n",
    "    \n",
    "    for i in range(len(p)):\n",
    "        if(p[\"placement\"][i]==1):\n",
    "            p[\"placement\"][i]=\"yes\"\n",
    "        else:\n",
    "            p[\"placement\"][i]=\"No\"\n",
    "    print(p)\n",
    "    g=p[\"placement\"].value_counts()\n",
    "    g.to_frame()\n",
    "    g.plot(kind='bar')\n",
    "    plt.show()"
   ]
  },
  {
   "cell_type": "markdown",
   "metadata": {},
   "source": [
    "# Placement prediction of a single student"
   ]
  },
  {
   "cell_type": "code",
   "execution_count": 50,
   "metadata": {},
   "outputs": [],
   "source": [
    "def knn_student_prediction(placed,clf):\n",
    "    p=placed\n",
    "    #print(p)\n",
    "    keam_min_rank=1\n",
    "    keam_max_rank=50000\n",
    "    p[[2]]=((p[[2]]-keam_min_rank)/(keam_max_rank-keam_min_rank))*100\n",
    "    p[[2]]=100-(p[[2]].round(2))\n",
    "    p[[3]]=p[[3]]*10\n",
    "    print(p)\n",
    "    clf.fit(train_x, train_y)\n",
    "    test_predict1 = clf.predict(p)\n",
    "    if(test_predict1==0):\n",
    "        print(\"student is less likely to get placed\")\n",
    "    elif(test_predict1==1):\n",
    "        print(\"student will get placed\")\n",
    "   "
   ]
  },
  {
   "cell_type": "markdown",
   "metadata": {},
   "source": [
    "# Displaying the working of model"
   ]
  },
  {
   "cell_type": "code",
   "execution_count": 52,
   "metadata": {},
   "outputs": [
    {
     "name": "stdout",
     "output_type": "stream",
     "text": [
      "enter your data\n",
      "Press 0 for testing model accuracy\n",
      "Press 1 for entering dataset\n",
      "press 2 for entering individual student data:\n",
      "0\n",
      "Type a dataset's path:placed_test.csv\n",
      "Test F1 Score     0.8636363636363635\n"
     ]
    }
   ],
   "source": [
    "print(\"enter your data\")\n",
    "print(\"Press 0 for testing model accuracy\")\n",
    "print(\"Press 1 for entering dataset\")\n",
    "print(\"press 2 for entering individual student data:\")\n",
    "p=int(input())\n",
    "if(p==0):\n",
    "    n=input(\"Type a dataset's path:\")\n",
    "    testing_knn(n,clf)\n",
    "elif(p==2):\n",
    "    import csv\n",
    "    with open('inputs.csv', 'w') as f:\n",
    "        w = csv.writer(f, quoting=csv.QUOTE_ALL) \n",
    "        aisse=float(input(\"enter your 10th marks:\"))\n",
    "        hse=float(input(\"enter your 12th marks:\"))\n",
    "        keam_rank=float(input(\"enter your keam rank:\"))\n",
    "        cgpa=float(input(\"enter your cgpa:\"))\n",
    "        w.writerow([aisse,hse,keam_rank,cgpa])\n",
    "    n= \"/home/user/Downloads/elective/project/placement/inputs.csv\"\n",
    "    knn_student_prediction(n,clf)\n",
    "elif(p==1):\n",
    "    n=input(\"Type a dataset's path:\")\n",
    "    knn_dataset_prediction(n,clf)\n"
   ]
  },
  {
   "cell_type": "code",
   "execution_count": 51,
   "metadata": {},
   "outputs": [
    {
     "name": "stdout",
     "output_type": "stream",
     "text": [
      "enter your data\n",
      "Press 0 for testing model accuracy\n",
      "Press 1 for entering dataset\n",
      "press 2 for entering individual student data:\n",
      "1\n",
      "Type a dataset's path:datasetin.csv\n",
      "        1      2       3     4 placement\n",
      "0    92.0  83.00   63.86  60.2        No\n",
      "1    94.0  94.00   91.52  76.2       yes\n",
      "2   100.0  98.00   91.34  90.3       yes\n",
      "3    95.0  98.60   91.98  84.4       yes\n",
      "4    88.0  90.00   88.21  80.8       yes\n",
      "5    93.6  91.60   98.06  85.6       yes\n",
      "6    92.0  68.00   87.18  72.8        No\n",
      "7    92.0  93.80   81.84  74.3        No\n",
      "8   100.0  94.00   83.93  68.2       yes\n",
      "9   100.0  98.00   86.03  87.3       yes\n",
      "10   99.0  95.50   88.81  60.3        No\n",
      "11   98.0  93.00   81.46  76.1       yes\n",
      "12   98.0  88.20   91.92  82.9       yes\n",
      "13   95.2  90.00  100.00  85.6       yes\n",
      "14  100.0  92.60   81.15  84.4       yes\n",
      "15   71.0  70.00    0.00  80.2       yes\n",
      "16   95.0  95.00   88.58  83.7       yes\n",
      "17  100.0  90.00   92.16  72.3       yes\n",
      "18   95.0  91.00   42.32  80.7        No\n",
      "19   98.0  87.00   92.76  82.6       yes\n",
      "20  100.0  89.80   83.01  69.7        No\n",
      "21  100.0  96.00   50.76  71.1        No\n",
      "22   94.0  91.00   81.12  88.9       yes\n",
      "23   82.0  80.00   79.04  32.4        No\n",
      "24  100.0  96.50   89.41  76.6        No\n",
      "25   91.0  92.00   80.77  73.5        No\n",
      "26   93.0  96.75   89.61  78.1       yes\n",
      "27   98.0  85.60   91.32  70.3        No\n",
      "28   93.0  89.58   48.73  77.2        No\n",
      "29   74.0  74.60   77.12  67.2        No\n",
      "30   94.0  92.80   73.93  85.0       yes\n",
      "31  100.0  97.00   94.30  76.4        No\n",
      "32   88.0  88.00   90.45  80.5       yes\n",
      "33   94.0  89.60   89.94  71.1       yes\n"
     ]
    },
    {
     "data": {
      "image/png": "[encoded data removed]",
      "text/plain": [
       "<Figure size 432x288 with 1 Axes>"
      ]
     },
     "metadata": {
      "needs_background": "light"
     },
     "output_type": "display_data"
    }
   ],
   "source": [
    "print(\"enter your data\")\n",
    "print(\"Press 0 for testing model accuracy\")\n",
    "print(\"Press 1 for entering dataset\")\n",
    "print(\"press 2 for entering individual student data:\")\n",
    "p=int(input())\n",
    "if(p==0):\n",
    "    n=input(\"Type a dataset's path:\")\n",
    "    testing_knn(n,clf)\n",
    "elif(p==2):\n",
    "    import csv\n",
    "    with open('inputs.csv', 'w') as f:\n",
    "        w = csv.writer(f, quoting=csv.QUOTE_ALL) \n",
    "        aisse=float(input(\"enter your 10th marks:\"))\n",
    "        hse=float(input(\"enter your 12th marks:\"))\n",
    "        keam_rank=float(input(\"enter your keam rank:\"))\n",
    "        cgpa=float(input(\"enter your cgpa:\"))\n",
    "        w.writerow([aisse,hse,keam_rank,cgpa])\n",
    "    n= \"/home/user/Downloads/elective/project/placement/inputs.csv\"\n",
    "    knn_student_prediction(n,clf)\n",
    "elif(p==1):\n",
    "    n=input(\"Type a dataset's path:\")\n",
    "    knn_dataset_prediction(n,clf)"
   ]
  },
  {
   "cell_type": "code",
   "execution_count": 54,
   "metadata": {},
   "outputs": [
    {
     "name": "stdout",
     "output_type": "stream",
     "text": [
      "enter your data\n",
      "Press 0 for testing model accuracy\n",
      "Press 1 for entering dataset\n",
      "press 2 for entering individual student data:\n",
      "2\n",
      "enter your 10th marks:90\n",
      "enter your 12th marks:99\n",
      "enter your keam rank:566\n",
      "enter your cgpa:9.0\n",
      "      0     1      2     3\n",
      "0  90.0  99.0  98.87  90.0\n",
      "student will get placed\n"
     ]
    }
   ],
   "source": [
    "print(\"enter your data\")\n",
    "print(\"Press 0 for testing model accuracy\")\n",
    "print(\"Press 1 for entering dataset\")\n",
    "print(\"press 2 for entering individual student data:\")\n",
    "p=int(input())\n",
    "if(p==0):\n",
    "    n=input(\"Type a dataset's path:\")\n",
    "    testing_knn(n,clf)\n",
    "elif(p==2):\n",
    "    aisse=float(input(\"enter your 10th marks:\"))\n",
    "    hse=float(input(\"enter your 12th marks:\"))\n",
    "    keam_rank=float(input(\"enter your keam rank:\"))\n",
    "    cgpa=float(input(\"enter your cgpa:\"))\n",
    "    details={0:aisse,1:hse,2:keam_rank,3:cgpa}\n",
    "    placed=pd.DataFrame(details,index=[0])\n",
    "    knn_student_prediction(placed,clf)\n",
    "elif(p==1):\n",
    "    n=input(\"Type a dataset's path:\")\n",
    "    knn_dataset_prediction(n,clf)"
   ]
  },
  {
   "cell_type": "code",
   "execution_count": 8,
   "metadata": {},
   "outputs": [
    {
     "name": "stdout",
     "output_type": "stream",
     "text": [
      "enter your data\n",
      "Press 0 for testing model accuracy\n",
      "Press 1 for entering dataset\n",
      "press 2 for entering individual student data:\n",
      "2\n",
      "enter your 10th marks:70\n",
      "70.0\n",
      "enter your 12th marks:69\n",
      "enter your keam rank:21000\n",
      "enter your cgpa:7.0\n",
      "          2\n",
      "0  41.99884\n",
      "      0     1     2     3\n",
      "0  70.0  69.0  58.0  70.0\n",
      "student is less likely to be placed\n"
     ]
    }
   ],
   "source": [
    "print(\"enter your data\")\n",
    "print(\"Press 0 for testing model accuracy\")\n",
    "print(\"Press 1 for entering dataset\")\n",
    "print(\"press 2 for entering individual student data:\")\n",
    "p=int(input())\n",
    "if(p==0):\n",
    "    n=input(\"Type a dataset's path:\")\n",
    "    testing_knn(n,clf)\n",
    "elif(p==2):\n",
    "    aisse=float(input(\"enter your 10th marks:\"))\n",
    "    print(aisse)\n",
    "    hse=float(input(\"enter your 12th marks:\"))\n",
    "    keam_rank=float(input(\"enter your keam rank:\"))\n",
    "    cgpa=float(input(\"enter your cgpa:\"))\n",
    "    details={0:aisse,1:hse,2:keam_rank,3:cgpa}\n",
    "    placed=pd.DataFrame(details,index=[0])\n",
    "    knn_student_prediction(placed,clf)\n",
    "elif(p==1):\n",
    "    n=input(\"Type a dataset's path:\")\n",
    "    knn_dataset_prediction(n,clf)"
   ]
  },
  {
   "cell_type": "code",
   "execution_count": null,
   "metadata": {},
   "outputs": [],
   "source": []
  }
 ],
 "metadata": {
  "kernelspec": {
   "display_name": "Python 3",
   "language": "python",
   "name": "python3"
  },
  "language_info": {
   "codemirror_mode": {
    "name": "ipython",
    "version": 3
   },
   "file_extension": ".py",
   "mimetype": "text/x-python",
   "name": "python",
   "nbconvert_exporter": "python",
   "pygments_lexer": "ipython3",
   "version": "3.7.4"
  }
 },
 "nbformat": 4,
 "nbformat_minor": 2
}
