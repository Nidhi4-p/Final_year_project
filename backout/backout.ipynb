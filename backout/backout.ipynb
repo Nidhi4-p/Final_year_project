{
 "cells": [
  {
   "cell_type": "markdown",
   "metadata": {},
   "source": [
    "# Backout prediction Model"
   ]
  },
  {
   "cell_type": "code",
   "execution_count": 11,
   "metadata": {},
   "outputs": [
    {
     "name": "stdout",
     "output_type": "stream",
     "text": [
      "Test F1 Score     0.9285714285714286\n"
     ]
    }
   ],
   "source": [
    "#importing libraries \n",
    "import pandas as pd \n",
    "import matplotlib.pyplot as plt\n",
    "from sklearn import preprocessing\n",
    "from sklearn.neighbors import KNeighborsClassifier as KNN\n",
    "from sklearn.metrics import f1_score\n",
    "from sklearn.model_selection import train_test_split\n",
    "import warnings\n",
    "warnings.filterwarnings(\"ignore\")\n",
    "\n",
    "data = pd.read_csv('/home/user/Downloads/elective/project/backout/knn.csv', sep = ',', header = None, engine = 'python', encoding = 'latin-1')\n",
    "s=data\n",
    "x = s[[2]].values #returns a numpy array\n",
    "min_max_scaler = preprocessing.MinMaxScaler(feature_range=(0,100))\n",
    "x_scaled = min_max_scaler.fit_transform(x)\n",
    "df=pd.DataFrame(x_scaled)\n",
    "s[[2]]=df[[0]]\n",
    "s[[2]]=100-(s[[2]].round(2))\n",
    "x = data.drop([3], axis=1)\n",
    "y = data[3]\n",
    "train_x,test_x,train_y,test_y = train_test_split(x,y, random_state = 16, stratify=y)\n",
    "clf = KNN(n_neighbors = 10)\n",
    "clf.fit(train_x, train_y)\n",
    "test_predict = clf.predict(test_x)\n",
    "k = f1_score(test_predict, test_y)\n",
    "print('Test F1 Score    ', k )\n"
   ]
  },
  {
   "cell_type": "markdown",
   "metadata": {},
   "source": [
    "# Elbow method"
   ]
  },
  {
   "cell_type": "code",
   "execution_count": 12,
   "metadata": {},
   "outputs": [
    {
     "data": {
      "text/plain": [
       "Text(0.5, 1.0, 'Elbow Curve for test')"
      ]
     },
     "execution_count": 12,
     "metadata": {},
     "output_type": "execute_result"
    },
    {
     "data": {
      "image/png": "[encoded data removed]",
      "text/plain": [
       "<Figure size 432x288 with 1 Axes>"
      ]
     },
     "metadata": {
      "needs_background": "light"
     },
     "output_type": "display_data"
    }
   ],
   "source": [
    "def Elbow(K):\n",
    "    test_error = []\n",
    "   \n",
    "    #training model for evey value of K\n",
    "    for i in K:\n",
    "        #Instance oh KNN\n",
    "        clf = KNN(n_neighbors = i)\n",
    "        clf.fit(train_x, train_y)\n",
    "        # Appending F1 scores to empty list claculated using the predictions\n",
    "        tmp = clf.predict(test_x)\n",
    "        tmp = f1_score(tmp,test_y)\n",
    "        error = 1-tmp\n",
    "        test_error.append(error)\n",
    "    \n",
    "    return test_error\n",
    "k = range(2, 40, 2)\n",
    "test = Elbow(k)\n",
    "\n",
    "plt.plot(k, test)\n",
    "plt.xlabel('K Neighbors')\n",
    "plt.ylabel('Test error')\n",
    "plt.title('Elbow Curve for test')"
   ]
  },
  {
   "cell_type": "code",
   "execution_count": 13,
   "metadata": {},
   "outputs": [
    {
     "name": "stdout",
     "output_type": "stream",
     "text": [
      "Test F1 Score     1.0\n",
      "19    1\n",
      "45    0\n",
      "10    1\n",
      "52    1\n",
      "34    1\n",
      "4     1\n",
      "33    1\n",
      "56    1\n",
      "47    1\n",
      "17    1\n",
      "35    1\n",
      "55    1\n",
      "37    1\n",
      "24    0\n",
      "1     1\n",
      "Name: 3, dtype: int64\n"
     ]
    }
   ],
   "source": [
    "clf = KNN(n_neighbors = 6)\n",
    "clf.fit(train_x, train_y)\n",
    "test_predict = clf.predict(test_x)\n",
    "k = f1_score(test_predict, test_y)\n",
    "print('Test F1 Score    ', k )\n",
    "print(test_y)\n"
   ]
  },
  {
   "cell_type": "markdown",
   "metadata": {},
   "source": [
    "# Testing model accuracy"
   ]
  },
  {
   "cell_type": "code",
   "execution_count": 14,
   "metadata": {},
   "outputs": [],
   "source": [
    "def testing_knn(n,clf):\n",
    "    p=pd.read_csv(n, sep = ',', header = None, engine = 'python', encoding = 'latin-1')\n",
    "    l = p[[2]].values #returns a numpy array\n",
    "    min_max_scaler = preprocessing.MinMaxScaler(feature_range=(0,100))\n",
    "    x_scaled = min_max_scaler.fit_transform(l)\n",
    "    df=pd.DataFrame(x_scaled)\n",
    "    p[[2]]=df[[0]]\n",
    "    p[[2]]=100-(p[[2]].round(2))\n",
    "    t = p.drop([3], axis=1)\n",
    "    u = p[3]\n",
    "    clf.fit(train_x, train_y)\n",
    "    test_predict1 = clf.predict(t)\n",
    "    k = f1_score(test_predict1, u)\n",
    "    print('Test F1 Score    ', k )"
   ]
  },
  {
   "cell_type": "markdown",
   "metadata": {},
   "source": [
    "# Backout prediction of a single student\n"
   ]
  },
  {
   "cell_type": "code",
   "execution_count": 15,
   "metadata": {},
   "outputs": [],
   "source": [
    "\n",
    "    \n",
    "    \n",
    "def knn_student_prediction(n,clf):\n",
    "    p=pd.read_csv(n, sep = ',', header = None, engine = 'python', encoding = 'latin-1')\n",
    "    keam_min_rank=1\n",
    "    keam_max_rank=50000\n",
    "    p[[2]]=((p[[2]]-keam_min_rank)/(keam_max_rank-keam_min_rank))*100\n",
    "    print(p[[2]])\n",
    "    p[[2]]=100-(p[[2]].round(2))\n",
    "    print(p[[2]])\n",
    "    clf.fit(train_x, train_y)\n",
    "    test_predict1 = clf.predict(p)\n",
    "    print(test_predict1)\n",
    "    if(test_predict1==0):\n",
    "        print(\"student should backout\")\n",
    "    elif(test_predict1==1):\n",
    "        print(\"student could successfully complete the course!\")\n",
    "    \n",
    "\n",
    "    \n"
   ]
  },
  {
   "cell_type": "markdown",
   "metadata": {},
   "source": [
    "# Backout prediction of students in a dataset"
   ]
  },
  {
   "cell_type": "markdown",
   "metadata": {},
   "source": [
    "(input: A dataset of the csv format)"
   ]
  },
  {
   "cell_type": "code",
   "execution_count": 16,
   "metadata": {},
   "outputs": [],
   "source": [
    "def knn_dataset_prediction(n,clf):\n",
    "    p=pd.read_csv(n, sep = ',', header = None, engine = 'python', encoding = 'latin-1')\n",
    "    l = p[[2]].values #returns a numpy array\n",
    "    min_max_scaler = preprocessing.MinMaxScaler(feature_range=(0,100))\n",
    "    x_scaled = min_max_scaler.fit_transform(l)\n",
    "    df=pd.DataFrame(x_scaled)\n",
    "    p[[2]]=df[[0]]\n",
    "    p[[2]]=100-(p[[2]].round(2))\n",
    "    clf.fit(train_x, train_y)\n",
    "    test_predict1 = clf.predict(p)\n",
    "    print(test_predict1)\n"
   ]
  },
  {
   "cell_type": "markdown",
   "metadata": {},
   "source": [
    "# Displaying the working of model"
   ]
  },
  {
   "cell_type": "code",
   "execution_count": null,
   "metadata": {},
   "outputs": [
    {
     "name": "stdout",
     "output_type": "stream",
     "text": [
      "enter your data\n",
      "Press 0 for testing model accuracy\n",
      "Press 1 for entering dataset\n",
      "press 2 for entering individual student data:\n",
      "1\n"
     ]
    }
   ],
   "source": [
    "print(\"enter your data\")\n",
    "print(\"Press 0 for testing model accuracy\")\n",
    "print(\"Press 1 for entering dataset\")\n",
    "print(\"press 2 for entering individual student data:\")\n",
    "p=int(input())\n",
    "if(p==0):\n",
    "    n=input(\"Type a dataset's path:\")\n",
    "    testing_knn(n,clf)\n",
    "elif(p==2):\n",
    "    import csv\n",
    "    with open('inputs.csv', 'w') as f:\n",
    "        w = csv.writer(f, quoting=csv.QUOTE_ALL) \n",
    "        aisse=float(input(\"enter your 10th marks:\"))\n",
    "        hse=float(input(\"enter your 12th marks:\"))\n",
    "        keam_rank=float(input(\"enter your keam rank:\"))\n",
    "        w.writerow([aisse,hse,keam_rank])\n",
    "    n= \"/home/user/Downloads/elective/project/dropout/inputs.csv\"\n",
    "    knn_student_prediction(n,clf)\n",
    "elif(p==1):\n",
    "    n=input(\"Type a dataset's path:\")\n",
    "    knn_dataset_prediction(n,clf)"
   ]
  },
  {
   "cell_type": "code",
   "execution_count": null,
   "metadata": {},
   "outputs": [],
   "source": []
  }
 ],
 "metadata": {
  "kernelspec": {
   "display_name": "Python 3",
   "language": "python",
   "name": "python3"
  },
  "language_info": {
   "codemirror_mode": {
    "name": "ipython",
    "version": 3
   },
   "file_extension": ".py",
   "mimetype": "text/x-python",
   "name": "python",
   "nbconvert_exporter": "python",
   "pygments_lexer": "ipython3",
   "version": "3.7.4"
  }
 },
 "nbformat": 4,
 "nbformat_minor": 2
}
